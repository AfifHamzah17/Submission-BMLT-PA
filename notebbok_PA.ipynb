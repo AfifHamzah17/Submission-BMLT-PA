{
  "nbformat": 4,
  "nbformat_minor": 0,
  "metadata": {
    "colab": {
      "provenance": [],
      "gpuType": "T4"
    },
    "kernelspec": {
      "name": "python3",
      "display_name": "Python 3"
    },
    "language_info": {
      "name": "python"
    }
  },
  "cells": [
    {
      "cell_type": "markdown",
      "source": [
        "# Proyek Machine Learning: Prediksi Cuaca\n",
        "Proyek ini menggunakan dataset cuaca untuk memprediksi berbagai variabel cuaca.\n",
        "Dataset yang digunakan adalah `kumpulan_data_prediksi_cuaca.csv` yang berisi data tentang cuaca.\n",
        "Dalam notebook ini, kita akan melakukan tahapan dari import library, eksplorasi data, pemodelan, hingga evaluasi model."
      ],
      "metadata": {
        "id": "uZAihwgY0pHN"
      }
    },
    {
      "cell_type": "markdown",
      "source": [
        "# 1. Library Import"
      ],
      "metadata": {
        "id": "iupmBoVn0oxt"
      }
    },
    {
      "cell_type": "code",
      "execution_count": 32,
      "metadata": {
        "id": "07XPY0Fc0kO6"
      },
      "outputs": [],
      "source": [
        "import pandas as pd\n",
        "import numpy as np\n",
        "import matplotlib.pyplot as plt\n",
        "import seaborn as sns  # opsional untuk visualisasi tambahan\n",
        "from sklearn.model_selection import train_test_split\n",
        "from sklearn.preprocessing import StandardScaler, LabelEncoder\n",
        "from sklearn.metrics import classification_report, confusion_matrix\n",
        "import tensorflow as tf\n",
        "from tensorflow.keras.models import Sequential\n",
        "from tensorflow.keras.layers import Dense, Dropout, Input\n",
        "import kagglehub"
      ]
    },
    {
      "cell_type": "code",
      "source": [
        "!pip install tensorflow"
      ],
      "metadata": {
        "colab": {
          "base_uri": "https://localhost:8080/"
        },
        "id": "3F7cXBNB9rbc",
        "outputId": "8e6c1e26-9a46-4f0b-d01b-71e080762eb5"
      },
      "execution_count": 2,
      "outputs": [
        {
          "output_type": "stream",
          "name": "stdout",
          "text": [
            "Requirement already satisfied: tensorflow in /usr/local/lib/python3.11/dist-packages (2.18.0)\n",
            "Requirement already satisfied: absl-py>=1.0.0 in /usr/local/lib/python3.11/dist-packages (from tensorflow) (1.4.0)\n",
            "Requirement already satisfied: astunparse>=1.6.0 in /usr/local/lib/python3.11/dist-packages (from tensorflow) (1.6.3)\n",
            "Requirement already satisfied: flatbuffers>=24.3.25 in /usr/local/lib/python3.11/dist-packages (from tensorflow) (25.2.10)\n",
            "Requirement already satisfied: gast!=0.5.0,!=0.5.1,!=0.5.2,>=0.2.1 in /usr/local/lib/python3.11/dist-packages (from tensorflow) (0.6.0)\n",
            "Requirement already satisfied: google-pasta>=0.1.1 in /usr/local/lib/python3.11/dist-packages (from tensorflow) (0.2.0)\n",
            "Requirement already satisfied: libclang>=13.0.0 in /usr/local/lib/python3.11/dist-packages (from tensorflow) (18.1.1)\n",
            "Requirement already satisfied: opt-einsum>=2.3.2 in /usr/local/lib/python3.11/dist-packages (from tensorflow) (3.4.0)\n",
            "Requirement already satisfied: packaging in /usr/local/lib/python3.11/dist-packages (from tensorflow) (24.2)\n",
            "Requirement already satisfied: protobuf!=4.21.0,!=4.21.1,!=4.21.2,!=4.21.3,!=4.21.4,!=4.21.5,<6.0.0dev,>=3.20.3 in /usr/local/lib/python3.11/dist-packages (from tensorflow) (5.29.4)\n",
            "Requirement already satisfied: requests<3,>=2.21.0 in /usr/local/lib/python3.11/dist-packages (from tensorflow) (2.32.3)\n",
            "Requirement already satisfied: setuptools in /usr/local/lib/python3.11/dist-packages (from tensorflow) (75.2.0)\n",
            "Requirement already satisfied: six>=1.12.0 in /usr/local/lib/python3.11/dist-packages (from tensorflow) (1.17.0)\n",
            "Requirement already satisfied: termcolor>=1.1.0 in /usr/local/lib/python3.11/dist-packages (from tensorflow) (3.1.0)\n",
            "Requirement already satisfied: typing-extensions>=3.6.6 in /usr/local/lib/python3.11/dist-packages (from tensorflow) (4.13.2)\n",
            "Requirement already satisfied: wrapt>=1.11.0 in /usr/local/lib/python3.11/dist-packages (from tensorflow) (1.17.2)\n",
            "Requirement already satisfied: grpcio<2.0,>=1.24.3 in /usr/local/lib/python3.11/dist-packages (from tensorflow) (1.71.0)\n",
            "Requirement already satisfied: tensorboard<2.19,>=2.18 in /usr/local/lib/python3.11/dist-packages (from tensorflow) (2.18.0)\n",
            "Requirement already satisfied: keras>=3.5.0 in /usr/local/lib/python3.11/dist-packages (from tensorflow) (3.8.0)\n",
            "Requirement already satisfied: numpy<2.1.0,>=1.26.0 in /usr/local/lib/python3.11/dist-packages (from tensorflow) (2.0.2)\n",
            "Requirement already satisfied: h5py>=3.11.0 in /usr/local/lib/python3.11/dist-packages (from tensorflow) (3.13.0)\n",
            "Requirement already satisfied: ml-dtypes<0.5.0,>=0.4.0 in /usr/local/lib/python3.11/dist-packages (from tensorflow) (0.4.1)\n",
            "Requirement already satisfied: tensorflow-io-gcs-filesystem>=0.23.1 in /usr/local/lib/python3.11/dist-packages (from tensorflow) (0.37.1)\n",
            "Requirement already satisfied: wheel<1.0,>=0.23.0 in /usr/local/lib/python3.11/dist-packages (from astunparse>=1.6.0->tensorflow) (0.45.1)\n",
            "Requirement already satisfied: rich in /usr/local/lib/python3.11/dist-packages (from keras>=3.5.0->tensorflow) (13.9.4)\n",
            "Requirement already satisfied: namex in /usr/local/lib/python3.11/dist-packages (from keras>=3.5.0->tensorflow) (0.0.9)\n",
            "Requirement already satisfied: optree in /usr/local/lib/python3.11/dist-packages (from keras>=3.5.0->tensorflow) (0.15.0)\n",
            "Requirement already satisfied: charset-normalizer<4,>=2 in /usr/local/lib/python3.11/dist-packages (from requests<3,>=2.21.0->tensorflow) (3.4.1)\n",
            "Requirement already satisfied: idna<4,>=2.5 in /usr/local/lib/python3.11/dist-packages (from requests<3,>=2.21.0->tensorflow) (3.10)\n",
            "Requirement already satisfied: urllib3<3,>=1.21.1 in /usr/local/lib/python3.11/dist-packages (from requests<3,>=2.21.0->tensorflow) (2.4.0)\n",
            "Requirement already satisfied: certifi>=2017.4.17 in /usr/local/lib/python3.11/dist-packages (from requests<3,>=2.21.0->tensorflow) (2025.4.26)\n",
            "Requirement already satisfied: markdown>=2.6.8 in /usr/local/lib/python3.11/dist-packages (from tensorboard<2.19,>=2.18->tensorflow) (3.8)\n",
            "Requirement already satisfied: tensorboard-data-server<0.8.0,>=0.7.0 in /usr/local/lib/python3.11/dist-packages (from tensorboard<2.19,>=2.18->tensorflow) (0.7.2)\n",
            "Requirement already satisfied: werkzeug>=1.0.1 in /usr/local/lib/python3.11/dist-packages (from tensorboard<2.19,>=2.18->tensorflow) (3.1.3)\n",
            "Requirement already satisfied: MarkupSafe>=2.1.1 in /usr/local/lib/python3.11/dist-packages (from werkzeug>=1.0.1->tensorboard<2.19,>=2.18->tensorflow) (3.0.2)\n",
            "Requirement already satisfied: markdown-it-py>=2.2.0 in /usr/local/lib/python3.11/dist-packages (from rich->keras>=3.5.0->tensorflow) (3.0.0)\n",
            "Requirement already satisfied: pygments<3.0.0,>=2.13.0 in /usr/local/lib/python3.11/dist-packages (from rich->keras>=3.5.0->tensorflow) (2.19.1)\n",
            "Requirement already satisfied: mdurl~=0.1 in /usr/local/lib/python3.11/dist-packages (from markdown-it-py>=2.2.0->rich->keras>=3.5.0->tensorflow) (0.1.2)\n"
          ]
        }
      ]
    },
    {
      "cell_type": "markdown",
      "source": [
        "**Insight**\n",
        "\n",
        "*   Mengumpulkan semua import di satu cell membuat notebook lebih terstruktur dan memudahkan pengecekan dependensi di awal. Anda tidak perlu “bolak-balik” menambahkan import ketika menulis code di bagian lain."
      ],
      "metadata": {
        "id": "KZpgl5qB30x1"
      }
    },
    {
      "cell_type": "markdown",
      "source": [
        "# 2. Memuat dataset\n"
      ],
      "metadata": {
        "id": "MNRTZB6Y0xwF"
      }
    },
    {
      "cell_type": "code",
      "source": [
        "path = kagglehub.dataset_download(\"thedevastator/weather-prediction\")\n",
        "df = pd.read_csv(path + \"/weather_prediction_dataset.csv\")\n",
        "df.head()"
      ],
      "metadata": {
        "colab": {
          "base_uri": "https://localhost:8080/",
          "height": 255
        },
        "id": "bzqc5TDy0yCl",
        "outputId": "3e507187-4cb6-4908-e0f7-2729c1afdbd2"
      },
      "execution_count": 3,
      "outputs": [
        {
          "output_type": "execute_result",
          "data": {
            "text/plain": [
              "       DATE  MONTH  BASEL_cloud_cover  BASEL_humidity  BASEL_pressure  \\\n",
              "0  20000101      1                  8            0.89          1.0286   \n",
              "1  20000102      1                  8            0.87          1.0318   \n",
              "2  20000103      1                  5            0.81          1.0314   \n",
              "3  20000104      1                  7            0.79          1.0262   \n",
              "4  20000105      1                  5            0.90          1.0246   \n",
              "\n",
              "   BASEL_global_radiation  BASEL_precipitation  BASEL_sunshine  \\\n",
              "0                    0.20                 0.03             0.0   \n",
              "1                    0.25                 0.00             0.0   \n",
              "2                    0.50                 0.00             3.7   \n",
              "3                    0.63                 0.35             6.9   \n",
              "4                    0.51                 0.07             3.7   \n",
              "\n",
              "   BASEL_temp_mean  BASEL_temp_min  ...  STOCKHOLM_temp_min  \\\n",
              "0              2.9             1.6  ...                -9.3   \n",
              "1              3.6             2.7  ...                 0.5   \n",
              "2              2.2             0.1  ...                -1.0   \n",
              "3              3.9             0.5  ...                 2.5   \n",
              "4              6.0             3.8  ...                -1.8   \n",
              "\n",
              "   STOCKHOLM_temp_max  TOURS_wind_speed  TOURS_humidity  TOURS_pressure  \\\n",
              "0                 0.7               1.6            0.97          1.0275   \n",
              "1                 2.0               2.0            0.99          1.0293   \n",
              "2                 2.8               3.4            0.91          1.0267   \n",
              "3                 4.6               4.9            0.95          1.0222   \n",
              "4                 2.9               3.6            0.95          1.0209   \n",
              "\n",
              "   TOURS_global_radiation  TOURS_precipitation  TOURS_temp_mean  \\\n",
              "0                    0.25                 0.04              8.5   \n",
              "1                    0.17                 0.16              7.9   \n",
              "2                    0.27                 0.00              8.1   \n",
              "3                    0.11                 0.44              8.6   \n",
              "4                    0.39                 0.04              8.0   \n",
              "\n",
              "   TOURS_temp_min  TOURS_temp_max  \n",
              "0             7.2             9.8  \n",
              "1             6.6             9.2  \n",
              "2             6.6             9.6  \n",
              "3             6.4            10.8  \n",
              "4             6.4             9.5  \n",
              "\n",
              "[5 rows x 165 columns]"
            ],
            "text/html": [
              "\n",
              "  <div id=\"df-2b90b005-3998-4869-a3f9-ee959e6d625c\" class=\"colab-df-container\">\n",
              "    <div>\n",
              "<style scoped>\n",
              "    .dataframe tbody tr th:only-of-type {\n",
              "        vertical-align: middle;\n",
              "    }\n",
              "\n",
              "    .dataframe tbody tr th {\n",
              "        vertical-align: top;\n",
              "    }\n",
              "\n",
              "    .dataframe thead th {\n",
              "        text-align: right;\n",
              "    }\n",
              "</style>\n",
              "<table border=\"1\" class=\"dataframe\">\n",
              "  <thead>\n",
              "    <tr style=\"text-align: right;\">\n",
              "      <th></th>\n",
              "      <th>DATE</th>\n",
              "      <th>MONTH</th>\n",
              "      <th>BASEL_cloud_cover</th>\n",
              "      <th>BASEL_humidity</th>\n",
              "      <th>BASEL_pressure</th>\n",
              "      <th>BASEL_global_radiation</th>\n",
              "      <th>BASEL_precipitation</th>\n",
              "      <th>BASEL_sunshine</th>\n",
              "      <th>BASEL_temp_mean</th>\n",
              "      <th>BASEL_temp_min</th>\n",
              "      <th>...</th>\n",
              "      <th>STOCKHOLM_temp_min</th>\n",
              "      <th>STOCKHOLM_temp_max</th>\n",
              "      <th>TOURS_wind_speed</th>\n",
              "      <th>TOURS_humidity</th>\n",
              "      <th>TOURS_pressure</th>\n",
              "      <th>TOURS_global_radiation</th>\n",
              "      <th>TOURS_precipitation</th>\n",
              "      <th>TOURS_temp_mean</th>\n",
              "      <th>TOURS_temp_min</th>\n",
              "      <th>TOURS_temp_max</th>\n",
              "    </tr>\n",
              "  </thead>\n",
              "  <tbody>\n",
              "    <tr>\n",
              "      <th>0</th>\n",
              "      <td>20000101</td>\n",
              "      <td>1</td>\n",
              "      <td>8</td>\n",
              "      <td>0.89</td>\n",
              "      <td>1.0286</td>\n",
              "      <td>0.20</td>\n",
              "      <td>0.03</td>\n",
              "      <td>0.0</td>\n",
              "      <td>2.9</td>\n",
              "      <td>1.6</td>\n",
              "      <td>...</td>\n",
              "      <td>-9.3</td>\n",
              "      <td>0.7</td>\n",
              "      <td>1.6</td>\n",
              "      <td>0.97</td>\n",
              "      <td>1.0275</td>\n",
              "      <td>0.25</td>\n",
              "      <td>0.04</td>\n",
              "      <td>8.5</td>\n",
              "      <td>7.2</td>\n",
              "      <td>9.8</td>\n",
              "    </tr>\n",
              "    <tr>\n",
              "      <th>1</th>\n",
              "      <td>20000102</td>\n",
              "      <td>1</td>\n",
              "      <td>8</td>\n",
              "      <td>0.87</td>\n",
              "      <td>1.0318</td>\n",
              "      <td>0.25</td>\n",
              "      <td>0.00</td>\n",
              "      <td>0.0</td>\n",
              "      <td>3.6</td>\n",
              "      <td>2.7</td>\n",
              "      <td>...</td>\n",
              "      <td>0.5</td>\n",
              "      <td>2.0</td>\n",
              "      <td>2.0</td>\n",
              "      <td>0.99</td>\n",
              "      <td>1.0293</td>\n",
              "      <td>0.17</td>\n",
              "      <td>0.16</td>\n",
              "      <td>7.9</td>\n",
              "      <td>6.6</td>\n",
              "      <td>9.2</td>\n",
              "    </tr>\n",
              "    <tr>\n",
              "      <th>2</th>\n",
              "      <td>20000103</td>\n",
              "      <td>1</td>\n",
              "      <td>5</td>\n",
              "      <td>0.81</td>\n",
              "      <td>1.0314</td>\n",
              "      <td>0.50</td>\n",
              "      <td>0.00</td>\n",
              "      <td>3.7</td>\n",
              "      <td>2.2</td>\n",
              "      <td>0.1</td>\n",
              "      <td>...</td>\n",
              "      <td>-1.0</td>\n",
              "      <td>2.8</td>\n",
              "      <td>3.4</td>\n",
              "      <td>0.91</td>\n",
              "      <td>1.0267</td>\n",
              "      <td>0.27</td>\n",
              "      <td>0.00</td>\n",
              "      <td>8.1</td>\n",
              "      <td>6.6</td>\n",
              "      <td>9.6</td>\n",
              "    </tr>\n",
              "    <tr>\n",
              "      <th>3</th>\n",
              "      <td>20000104</td>\n",
              "      <td>1</td>\n",
              "      <td>7</td>\n",
              "      <td>0.79</td>\n",
              "      <td>1.0262</td>\n",
              "      <td>0.63</td>\n",
              "      <td>0.35</td>\n",
              "      <td>6.9</td>\n",
              "      <td>3.9</td>\n",
              "      <td>0.5</td>\n",
              "      <td>...</td>\n",
              "      <td>2.5</td>\n",
              "      <td>4.6</td>\n",
              "      <td>4.9</td>\n",
              "      <td>0.95</td>\n",
              "      <td>1.0222</td>\n",
              "      <td>0.11</td>\n",
              "      <td>0.44</td>\n",
              "      <td>8.6</td>\n",
              "      <td>6.4</td>\n",
              "      <td>10.8</td>\n",
              "    </tr>\n",
              "    <tr>\n",
              "      <th>4</th>\n",
              "      <td>20000105</td>\n",
              "      <td>1</td>\n",
              "      <td>5</td>\n",
              "      <td>0.90</td>\n",
              "      <td>1.0246</td>\n",
              "      <td>0.51</td>\n",
              "      <td>0.07</td>\n",
              "      <td>3.7</td>\n",
              "      <td>6.0</td>\n",
              "      <td>3.8</td>\n",
              "      <td>...</td>\n",
              "      <td>-1.8</td>\n",
              "      <td>2.9</td>\n",
              "      <td>3.6</td>\n",
              "      <td>0.95</td>\n",
              "      <td>1.0209</td>\n",
              "      <td>0.39</td>\n",
              "      <td>0.04</td>\n",
              "      <td>8.0</td>\n",
              "      <td>6.4</td>\n",
              "      <td>9.5</td>\n",
              "    </tr>\n",
              "  </tbody>\n",
              "</table>\n",
              "<p>5 rows × 165 columns</p>\n",
              "</div>\n",
              "    <div class=\"colab-df-buttons\">\n",
              "\n",
              "  <div class=\"colab-df-container\">\n",
              "    <button class=\"colab-df-convert\" onclick=\"convertToInteractive('df-2b90b005-3998-4869-a3f9-ee959e6d625c')\"\n",
              "            title=\"Convert this dataframe to an interactive table.\"\n",
              "            style=\"display:none;\">\n",
              "\n",
              "  <svg xmlns=\"http://www.w3.org/2000/svg\" height=\"24px\" viewBox=\"0 -960 960 960\">\n",
              "    <path d=\"M120-120v-720h720v720H120Zm60-500h600v-160H180v160Zm220 220h160v-160H400v160Zm0 220h160v-160H400v160ZM180-400h160v-160H180v160Zm440 0h160v-160H620v160ZM180-180h160v-160H180v160Zm440 0h160v-160H620v160Z\"/>\n",
              "  </svg>\n",
              "    </button>\n",
              "\n",
              "  <style>\n",
              "    .colab-df-container {\n",
              "      display:flex;\n",
              "      gap: 12px;\n",
              "    }\n",
              "\n",
              "    .colab-df-convert {\n",
              "      background-color: #E8F0FE;\n",
              "      border: none;\n",
              "      border-radius: 50%;\n",
              "      cursor: pointer;\n",
              "      display: none;\n",
              "      fill: #1967D2;\n",
              "      height: 32px;\n",
              "      padding: 0 0 0 0;\n",
              "      width: 32px;\n",
              "    }\n",
              "\n",
              "    .colab-df-convert:hover {\n",
              "      background-color: #E2EBFA;\n",
              "      box-shadow: 0px 1px 2px rgba(60, 64, 67, 0.3), 0px 1px 3px 1px rgba(60, 64, 67, 0.15);\n",
              "      fill: #174EA6;\n",
              "    }\n",
              "\n",
              "    .colab-df-buttons div {\n",
              "      margin-bottom: 4px;\n",
              "    }\n",
              "\n",
              "    [theme=dark] .colab-df-convert {\n",
              "      background-color: #3B4455;\n",
              "      fill: #D2E3FC;\n",
              "    }\n",
              "\n",
              "    [theme=dark] .colab-df-convert:hover {\n",
              "      background-color: #434B5C;\n",
              "      box-shadow: 0px 1px 3px 1px rgba(0, 0, 0, 0.15);\n",
              "      filter: drop-shadow(0px 1px 2px rgba(0, 0, 0, 0.3));\n",
              "      fill: #FFFFFF;\n",
              "    }\n",
              "  </style>\n",
              "\n",
              "    <script>\n",
              "      const buttonEl =\n",
              "        document.querySelector('#df-2b90b005-3998-4869-a3f9-ee959e6d625c button.colab-df-convert');\n",
              "      buttonEl.style.display =\n",
              "        google.colab.kernel.accessAllowed ? 'block' : 'none';\n",
              "\n",
              "      async function convertToInteractive(key) {\n",
              "        const element = document.querySelector('#df-2b90b005-3998-4869-a3f9-ee959e6d625c');\n",
              "        const dataTable =\n",
              "          await google.colab.kernel.invokeFunction('convertToInteractive',\n",
              "                                                    [key], {});\n",
              "        if (!dataTable) return;\n",
              "\n",
              "        const docLinkHtml = 'Like what you see? Visit the ' +\n",
              "          '<a target=\"_blank\" href=https://colab.research.google.com/notebooks/data_table.ipynb>data table notebook</a>'\n",
              "          + ' to learn more about interactive tables.';\n",
              "        element.innerHTML = '';\n",
              "        dataTable['output_type'] = 'display_data';\n",
              "        await google.colab.output.renderOutput(dataTable, element);\n",
              "        const docLink = document.createElement('div');\n",
              "        docLink.innerHTML = docLinkHtml;\n",
              "        element.appendChild(docLink);\n",
              "      }\n",
              "    </script>\n",
              "  </div>\n",
              "\n",
              "\n",
              "    <div id=\"df-0f8fb187-b150-4712-920d-3e7411d990d4\">\n",
              "      <button class=\"colab-df-quickchart\" onclick=\"quickchart('df-0f8fb187-b150-4712-920d-3e7411d990d4')\"\n",
              "                title=\"Suggest charts\"\n",
              "                style=\"display:none;\">\n",
              "\n",
              "<svg xmlns=\"http://www.w3.org/2000/svg\" height=\"24px\"viewBox=\"0 0 24 24\"\n",
              "     width=\"24px\">\n",
              "    <g>\n",
              "        <path d=\"M19 3H5c-1.1 0-2 .9-2 2v14c0 1.1.9 2 2 2h14c1.1 0 2-.9 2-2V5c0-1.1-.9-2-2-2zM9 17H7v-7h2v7zm4 0h-2V7h2v10zm4 0h-2v-4h2v4z\"/>\n",
              "    </g>\n",
              "</svg>\n",
              "      </button>\n",
              "\n",
              "<style>\n",
              "  .colab-df-quickchart {\n",
              "      --bg-color: #E8F0FE;\n",
              "      --fill-color: #1967D2;\n",
              "      --hover-bg-color: #E2EBFA;\n",
              "      --hover-fill-color: #174EA6;\n",
              "      --disabled-fill-color: #AAA;\n",
              "      --disabled-bg-color: #DDD;\n",
              "  }\n",
              "\n",
              "  [theme=dark] .colab-df-quickchart {\n",
              "      --bg-color: #3B4455;\n",
              "      --fill-color: #D2E3FC;\n",
              "      --hover-bg-color: #434B5C;\n",
              "      --hover-fill-color: #FFFFFF;\n",
              "      --disabled-bg-color: #3B4455;\n",
              "      --disabled-fill-color: #666;\n",
              "  }\n",
              "\n",
              "  .colab-df-quickchart {\n",
              "    background-color: var(--bg-color);\n",
              "    border: none;\n",
              "    border-radius: 50%;\n",
              "    cursor: pointer;\n",
              "    display: none;\n",
              "    fill: var(--fill-color);\n",
              "    height: 32px;\n",
              "    padding: 0;\n",
              "    width: 32px;\n",
              "  }\n",
              "\n",
              "  .colab-df-quickchart:hover {\n",
              "    background-color: var(--hover-bg-color);\n",
              "    box-shadow: 0 1px 2px rgba(60, 64, 67, 0.3), 0 1px 3px 1px rgba(60, 64, 67, 0.15);\n",
              "    fill: var(--button-hover-fill-color);\n",
              "  }\n",
              "\n",
              "  .colab-df-quickchart-complete:disabled,\n",
              "  .colab-df-quickchart-complete:disabled:hover {\n",
              "    background-color: var(--disabled-bg-color);\n",
              "    fill: var(--disabled-fill-color);\n",
              "    box-shadow: none;\n",
              "  }\n",
              "\n",
              "  .colab-df-spinner {\n",
              "    border: 2px solid var(--fill-color);\n",
              "    border-color: transparent;\n",
              "    border-bottom-color: var(--fill-color);\n",
              "    animation:\n",
              "      spin 1s steps(1) infinite;\n",
              "  }\n",
              "\n",
              "  @keyframes spin {\n",
              "    0% {\n",
              "      border-color: transparent;\n",
              "      border-bottom-color: var(--fill-color);\n",
              "      border-left-color: var(--fill-color);\n",
              "    }\n",
              "    20% {\n",
              "      border-color: transparent;\n",
              "      border-left-color: var(--fill-color);\n",
              "      border-top-color: var(--fill-color);\n",
              "    }\n",
              "    30% {\n",
              "      border-color: transparent;\n",
              "      border-left-color: var(--fill-color);\n",
              "      border-top-color: var(--fill-color);\n",
              "      border-right-color: var(--fill-color);\n",
              "    }\n",
              "    40% {\n",
              "      border-color: transparent;\n",
              "      border-right-color: var(--fill-color);\n",
              "      border-top-color: var(--fill-color);\n",
              "    }\n",
              "    60% {\n",
              "      border-color: transparent;\n",
              "      border-right-color: var(--fill-color);\n",
              "    }\n",
              "    80% {\n",
              "      border-color: transparent;\n",
              "      border-right-color: var(--fill-color);\n",
              "      border-bottom-color: var(--fill-color);\n",
              "    }\n",
              "    90% {\n",
              "      border-color: transparent;\n",
              "      border-bottom-color: var(--fill-color);\n",
              "    }\n",
              "  }\n",
              "</style>\n",
              "\n",
              "      <script>\n",
              "        async function quickchart(key) {\n",
              "          const quickchartButtonEl =\n",
              "            document.querySelector('#' + key + ' button');\n",
              "          quickchartButtonEl.disabled = true;  // To prevent multiple clicks.\n",
              "          quickchartButtonEl.classList.add('colab-df-spinner');\n",
              "          try {\n",
              "            const charts = await google.colab.kernel.invokeFunction(\n",
              "                'suggestCharts', [key], {});\n",
              "          } catch (error) {\n",
              "            console.error('Error during call to suggestCharts:', error);\n",
              "          }\n",
              "          quickchartButtonEl.classList.remove('colab-df-spinner');\n",
              "          quickchartButtonEl.classList.add('colab-df-quickchart-complete');\n",
              "        }\n",
              "        (() => {\n",
              "          let quickchartButtonEl =\n",
              "            document.querySelector('#df-0f8fb187-b150-4712-920d-3e7411d990d4 button');\n",
              "          quickchartButtonEl.style.display =\n",
              "            google.colab.kernel.accessAllowed ? 'block' : 'none';\n",
              "        })();\n",
              "      </script>\n",
              "    </div>\n",
              "\n",
              "    </div>\n",
              "  </div>\n"
            ],
            "application/vnd.google.colaboratory.intrinsic+json": {
              "type": "dataframe",
              "variable_name": "df"
            }
          },
          "metadata": {},
          "execution_count": 3
        }
      ]
    },
    {
      "cell_type": "markdown",
      "source": [
        "**Insight**\n",
        "\n",
        "\n",
        "*   Dengan sekali panggil kagglehub.dataset_download dan pd.read_csv, Anda memastikan semua code terkait data loading terpusat—mempermudah debugging jika path atau otentikasi Kaggle bermasalah."
      ],
      "metadata": {
        "id": "dJmcyjT636Kj"
      }
    },
    {
      "cell_type": "markdown",
      "source": [
        "# 3. Data Preparation"
      ],
      "metadata": {
        "id": "whPBa3FG1GlX"
      }
    },
    {
      "cell_type": "markdown",
      "source": [
        "## A. Cek missing values\n"
      ],
      "metadata": {
        "id": "YzmVtnXC1KG4"
      }
    },
    {
      "cell_type": "code",
      "source": [
        "print(\"Missing values per kolom:\")\n",
        "print(df.isnull().sum())"
      ],
      "metadata": {
        "colab": {
          "base_uri": "https://localhost:8080/"
        },
        "id": "Vxd3INUZ1G0g",
        "outputId": "f15fc1fa-8551-4c9a-e761-556a9b7b0a1f"
      },
      "execution_count": 4,
      "outputs": [
        {
          "output_type": "stream",
          "name": "stdout",
          "text": [
            "Missing values per kolom:\n",
            "DATE                      0\n",
            "MONTH                     0\n",
            "BASEL_cloud_cover         0\n",
            "BASEL_humidity            0\n",
            "BASEL_pressure            0\n",
            "                         ..\n",
            "TOURS_global_radiation    0\n",
            "TOURS_precipitation       0\n",
            "TOURS_temp_mean           0\n",
            "TOURS_temp_min            0\n",
            "TOURS_temp_max            0\n",
            "Length: 165, dtype: int64\n"
          ]
        }
      ]
    },
    {
      "cell_type": "markdown",
      "source": [
        "**Insight**\n",
        "\n",
        "\n",
        "*   Mengetahui kolom mana yang punya nilai hilang (missing) adalah dasar untuk memutuskan teknik imputasi atau drop—tanpa ini, model bisa menghasilkan hasil bias atau error saat fit."
      ],
      "metadata": {
        "id": "LzRBb4Mc4F_W"
      }
    },
    {
      "cell_type": "markdown",
      "source": [
        "## B. Cek duplikat\n"
      ],
      "metadata": {
        "id": "Sk_KadT01NYL"
      }
    },
    {
      "cell_type": "code",
      "source": [
        "print(f\"Jumlah duplikat: {df.duplicated().sum()}\")"
      ],
      "metadata": {
        "colab": {
          "base_uri": "https://localhost:8080/"
        },
        "id": "b0JTUXUH1NtT",
        "outputId": "d8e2e7ed-c38f-4bc6-9b56-bba9726613e4"
      },
      "execution_count": 5,
      "outputs": [
        {
          "output_type": "stream",
          "name": "stdout",
          "text": [
            "Jumlah duplikat: 0\n"
          ]
        }
      ]
    },
    {
      "cell_type": "markdown",
      "source": [
        "**Insight**\n",
        "\n",
        "\n",
        "*   Duplikat bisa “mengunci” model pada pola yang sama berulang-ulang, memperbesar risiko overfitting; mendeteksi dan menghapusnya menjaga keunikan sampel."
      ],
      "metadata": {
        "id": "lPSUIhq44Gt-"
      }
    },
    {
      "cell_type": "markdown",
      "source": [
        "## C. Generate target & cek distribusi\n"
      ],
      "metadata": {
        "id": "Gg-MxtZx1RoL"
      }
    },
    {
      "cell_type": "code",
      "source": [
        "df['rain_tomorrow'] = (df['BASEL_precipitation'].shift(-1) > 0).astype(int)\n",
        "df = df.dropna(subset=['rain_tomorrow'])\n",
        "print(\"Distribusi kelas target (rain_tomorrow):\")\n",
        "print(df['rain_tomorrow'].value_counts(normalize=True))"
      ],
      "metadata": {
        "colab": {
          "base_uri": "https://localhost:8080/"
        },
        "id": "mxzWuxra1SAj",
        "outputId": "28ba0736-bc1e-44d3-c130-b53a7ece15e8"
      },
      "execution_count": 27,
      "outputs": [
        {
          "output_type": "stream",
          "name": "stdout",
          "text": [
            "Distribusi kelas target (rain_tomorrow):\n",
            "rain_tomorrow\n",
            "0    0.533114\n",
            "1    0.466886\n",
            "Name: proportion, dtype: float64\n"
          ]
        }
      ]
    },
    {
      "cell_type": "markdown",
      "source": [
        "**Insight**\n",
        "\n",
        "\n",
        "*   Membuat target untuk klasifikasi disini saya memilih untuk prediksi apakah besok hujan atau tidak"
      ],
      "metadata": {
        "id": "0u8CnmDq4Huj"
      }
    },
    {
      "cell_type": "markdown",
      "source": [
        "# 4. Process Data\n"
      ],
      "metadata": {
        "id": "cyFkDu2U1cI4"
      }
    },
    {
      "cell_type": "markdown",
      "source": [
        "## A. Drop duplikat"
      ],
      "metadata": {
        "id": "gpbxYCLE1f0R"
      }
    },
    {
      "cell_type": "code",
      "source": [
        "df = df.drop_duplicates()"
      ],
      "metadata": {
        "id": "tI2U7r_61bS5"
      },
      "execution_count": 7,
      "outputs": []
    },
    {
      "cell_type": "markdown",
      "source": [
        "**Insight**\n",
        "\n",
        "\n",
        "*   Setelah deteksi, menghapus baris duplikat sebelum analisis selanjutnya memastikan data “bersih” dan valid."
      ],
      "metadata": {
        "id": "Wk5zvDoH4Jv3"
      }
    },
    {
      "cell_type": "markdown",
      "source": [
        "## B. Imputasi missing numeric & kategorikal\n"
      ],
      "metadata": {
        "id": "keiKcTkC1lq3"
      }
    },
    {
      "cell_type": "code",
      "source": [
        "num_cols = df.select_dtypes(include=['float64','int64']).columns\n",
        "cat_cols = df.select_dtypes(include=['object']).columns\n",
        "\n",
        "df[num_cols] = df[num_cols].apply(lambda x: x.fillna(x.mean()))\n",
        "df[cat_cols] = df[cat_cols].apply(lambda x: x.fillna(x.mode()[0]))"
      ],
      "metadata": {
        "id": "zrhhgTKC1leg"
      },
      "execution_count": 28,
      "outputs": []
    },
    {
      "cell_type": "markdown",
      "source": [
        "**Insight**\n",
        "\n",
        "\n",
        "*   Imputasi mean untuk numerik dan mode untuk kategorikal sederhana tapi efektif, menjaga distribusi asli data."
      ],
      "metadata": {
        "id": "Ltn8PzBv4KT2"
      }
    },
    {
      "cell_type": "markdown",
      "source": [
        "## C. Split Fitur & Label\n"
      ],
      "metadata": {
        "id": "U2Ir-Uty1097"
      }
    },
    {
      "cell_type": "code",
      "source": [
        "X = df.drop(['rain_tomorrow', 'DATE'], axis=1)\n",
        "y = df['rain_tomorrow']\n",
        "\n",
        "X_train, X_test, y_train, y_test = train_test_split(\n",
        "    X, y, test_size=0.2, stratify=y, random_state=42\n",
        ")"
      ],
      "metadata": {
        "id": "GUapjB6f10y7"
      },
      "execution_count": 29,
      "outputs": []
    },
    {
      "cell_type": "markdown",
      "source": [
        "**Insight**\n",
        "\n",
        "\n",
        "*  Memisahkan data sebelum scaling atau modeling mencegah “data leakage” dan memastikan evaluasi yang jujur."
      ],
      "metadata": {
        "id": "MKXgJMYK4LSW"
      }
    },
    {
      "cell_type": "markdown",
      "source": [
        "## D. Normalisasi (StandardScaler)\n"
      ],
      "metadata": {
        "id": "IcTTjZIp16Xh"
      }
    },
    {
      "cell_type": "code",
      "source": [
        "scaler = StandardScaler()\n",
        "X_train = scaler.fit_transform(X_train)\n",
        "X_test = scaler.transform(X_test)"
      ],
      "metadata": {
        "id": "vN0gYVPE18y1"
      },
      "execution_count": 30,
      "outputs": []
    },
    {
      "cell_type": "markdown",
      "source": [
        "**Insight**\n",
        "\n",
        "\n",
        "*   Banyak algoritma (terutama neural network) sensitif pada skala fitur—standarisasi membuat semua fitur memiliki rata-rata 0 dan varians 1, mempercepat konvergensi."
      ],
      "metadata": {
        "id": "aG7RRb2X4L2j"
      }
    },
    {
      "cell_type": "markdown",
      "source": [
        "# 5. Modeling"
      ],
      "metadata": {
        "id": "mZ7sBywR19ek"
      }
    },
    {
      "cell_type": "markdown",
      "source": [
        "## A. Build model"
      ],
      "metadata": {
        "id": "ZWBeVO7R2Ghb"
      }
    },
    {
      "cell_type": "code",
      "source": [
        "model = Sequential([\n",
        "    Input(shape=(X_train.shape[1],)),\n",
        "    Dense(64, activation='relu'),\n",
        "    Dropout(0.3),\n",
        "    Dense(32, activation='relu'),\n",
        "    Dropout(0.2),\n",
        "    Dense(1, activation='sigmoid')\n",
        "])\n",
        "\n",
        "model.compile(optimizer='adam', loss='binary_crossentropy', metrics=['accuracy'])"
      ],
      "metadata": {
        "id": "x9FxwAjl193U"
      },
      "execution_count": 33,
      "outputs": []
    },
    {
      "cell_type": "markdown",
      "source": [
        "**Insight**\n",
        "\n",
        "\n",
        "*   Menyusun arsitektur (jumlah layer, neuron, activation) di awal memudahkan eksperimen hyperparameter dan dokumentasi."
      ],
      "metadata": {
        "id": "D6ArmZYG4Nzg"
      }
    },
    {
      "cell_type": "markdown",
      "source": [
        "## B. Train model\n",
        "\n"
      ],
      "metadata": {
        "id": "TZxjkKqT2KZd"
      }
    },
    {
      "cell_type": "code",
      "source": [
        "history = model.fit(\n",
        "    X_train, y_train,\n",
        "    validation_split=0.2,\n",
        "    epochs=30,\n",
        "    batch_size=32,\n",
        "    verbose=1\n",
        ")"
      ],
      "metadata": {
        "colab": {
          "base_uri": "https://localhost:8080/"
        },
        "id": "ZVXtHdye2KHu",
        "outputId": "6c03bc50-0cd4-49de-b1cd-2dcbdfd37d44"
      },
      "execution_count": 34,
      "outputs": [
        {
          "output_type": "stream",
          "name": "stdout",
          "text": [
            "Epoch 1/30\n",
            "\u001b[1m74/74\u001b[0m \u001b[32m━━━━━━━━━━━━━━━━━━━━\u001b[0m\u001b[37m\u001b[0m \u001b[1m3s\u001b[0m 14ms/step - accuracy: 0.6001 - loss: 0.6842 - val_accuracy: 0.6752 - val_loss: 0.6046\n",
            "Epoch 2/30\n",
            "\u001b[1m74/74\u001b[0m \u001b[32m━━━━━━━━━━━━━━━━━━━━\u001b[0m\u001b[37m\u001b[0m \u001b[1m1s\u001b[0m 11ms/step - accuracy: 0.6822 - loss: 0.5938 - val_accuracy: 0.6769 - val_loss: 0.6100\n",
            "Epoch 3/30\n",
            "\u001b[1m74/74\u001b[0m \u001b[32m━━━━━━━━━━━━━━━━━━━━\u001b[0m\u001b[37m\u001b[0m \u001b[1m1s\u001b[0m 9ms/step - accuracy: 0.6835 - loss: 0.5888 - val_accuracy: 0.6838 - val_loss: 0.5945\n",
            "Epoch 4/30\n",
            "\u001b[1m74/74\u001b[0m \u001b[32m━━━━━━━━━━━━━━━━━━━━\u001b[0m\u001b[37m\u001b[0m \u001b[1m2s\u001b[0m 13ms/step - accuracy: 0.7260 - loss: 0.5592 - val_accuracy: 0.6889 - val_loss: 0.5927\n",
            "Epoch 5/30\n",
            "\u001b[1m74/74\u001b[0m \u001b[32m━━━━━━━━━━━━━━━━━━━━\u001b[0m\u001b[37m\u001b[0m \u001b[1m1s\u001b[0m 8ms/step - accuracy: 0.7084 - loss: 0.5477 - val_accuracy: 0.6957 - val_loss: 0.5896\n",
            "Epoch 6/30\n",
            "\u001b[1m74/74\u001b[0m \u001b[32m━━━━━━━━━━━━━━━━━━━━\u001b[0m\u001b[37m\u001b[0m \u001b[1m1s\u001b[0m 7ms/step - accuracy: 0.6862 - loss: 0.5735 - val_accuracy: 0.6991 - val_loss: 0.5834\n",
            "Epoch 7/30\n",
            "\u001b[1m74/74\u001b[0m \u001b[32m━━━━━━━━━━━━━━━━━━━━\u001b[0m\u001b[37m\u001b[0m \u001b[1m1s\u001b[0m 7ms/step - accuracy: 0.7394 - loss: 0.5180 - val_accuracy: 0.7094 - val_loss: 0.5854\n",
            "Epoch 8/30\n",
            "\u001b[1m74/74\u001b[0m \u001b[32m━━━━━━━━━━━━━━━━━━━━\u001b[0m\u001b[37m\u001b[0m \u001b[1m0s\u001b[0m 4ms/step - accuracy: 0.7346 - loss: 0.5309 - val_accuracy: 0.7077 - val_loss: 0.5862\n",
            "Epoch 9/30\n",
            "\u001b[1m74/74\u001b[0m \u001b[32m━━━━━━━━━━━━━━━━━━━━\u001b[0m\u001b[37m\u001b[0m \u001b[1m0s\u001b[0m 4ms/step - accuracy: 0.7356 - loss: 0.5225 - val_accuracy: 0.7009 - val_loss: 0.5852\n",
            "Epoch 10/30\n",
            "\u001b[1m74/74\u001b[0m \u001b[32m━━━━━━━━━━━━━━━━━━━━\u001b[0m\u001b[37m\u001b[0m \u001b[1m1s\u001b[0m 4ms/step - accuracy: 0.7475 - loss: 0.5364 - val_accuracy: 0.7248 - val_loss: 0.5920\n",
            "Epoch 11/30\n",
            "\u001b[1m74/74\u001b[0m \u001b[32m━━━━━━━━━━━━━━━━━━━━\u001b[0m\u001b[37m\u001b[0m \u001b[1m0s\u001b[0m 4ms/step - accuracy: 0.7473 - loss: 0.5159 - val_accuracy: 0.7214 - val_loss: 0.5855\n",
            "Epoch 12/30\n",
            "\u001b[1m74/74\u001b[0m \u001b[32m━━━━━━━━━━━━━━━━━━━━\u001b[0m\u001b[37m\u001b[0m \u001b[1m0s\u001b[0m 4ms/step - accuracy: 0.7551 - loss: 0.5043 - val_accuracy: 0.7077 - val_loss: 0.5920\n",
            "Epoch 13/30\n",
            "\u001b[1m74/74\u001b[0m \u001b[32m━━━━━━━━━━━━━━━━━━━━\u001b[0m\u001b[37m\u001b[0m \u001b[1m0s\u001b[0m 4ms/step - accuracy: 0.7484 - loss: 0.5121 - val_accuracy: 0.7060 - val_loss: 0.5927\n",
            "Epoch 14/30\n",
            "\u001b[1m74/74\u001b[0m \u001b[32m━━━━━━━━━━━━━━━━━━━━\u001b[0m\u001b[37m\u001b[0m \u001b[1m0s\u001b[0m 4ms/step - accuracy: 0.7749 - loss: 0.4848 - val_accuracy: 0.7179 - val_loss: 0.5905\n",
            "Epoch 15/30\n",
            "\u001b[1m74/74\u001b[0m \u001b[32m━━━━━━━━━━━━━━━━━━━━\u001b[0m\u001b[37m\u001b[0m \u001b[1m0s\u001b[0m 4ms/step - accuracy: 0.7853 - loss: 0.4775 - val_accuracy: 0.7111 - val_loss: 0.5898\n",
            "Epoch 16/30\n",
            "\u001b[1m74/74\u001b[0m \u001b[32m━━━━━━━━━━━━━━━━━━━━\u001b[0m\u001b[37m\u001b[0m \u001b[1m0s\u001b[0m 4ms/step - accuracy: 0.7604 - loss: 0.4886 - val_accuracy: 0.7162 - val_loss: 0.6040\n",
            "Epoch 17/30\n",
            "\u001b[1m74/74\u001b[0m \u001b[32m━━━━━━━━━━━━━━━━━━━━\u001b[0m\u001b[37m\u001b[0m \u001b[1m0s\u001b[0m 4ms/step - accuracy: 0.7745 - loss: 0.4700 - val_accuracy: 0.6923 - val_loss: 0.5996\n",
            "Epoch 18/30\n",
            "\u001b[1m74/74\u001b[0m \u001b[32m━━━━━━━━━━━━━━━━━━━━\u001b[0m\u001b[37m\u001b[0m \u001b[1m0s\u001b[0m 4ms/step - accuracy: 0.7690 - loss: 0.4773 - val_accuracy: 0.7043 - val_loss: 0.5979\n",
            "Epoch 19/30\n",
            "\u001b[1m74/74\u001b[0m \u001b[32m━━━━━━━━━━━━━━━━━━━━\u001b[0m\u001b[37m\u001b[0m \u001b[1m0s\u001b[0m 4ms/step - accuracy: 0.7685 - loss: 0.4746 - val_accuracy: 0.7128 - val_loss: 0.5992\n",
            "Epoch 20/30\n",
            "\u001b[1m74/74\u001b[0m \u001b[32m━━━━━━━━━━━━━━━━━━━━\u001b[0m\u001b[37m\u001b[0m \u001b[1m1s\u001b[0m 4ms/step - accuracy: 0.7866 - loss: 0.4523 - val_accuracy: 0.7043 - val_loss: 0.6000\n",
            "Epoch 21/30\n",
            "\u001b[1m74/74\u001b[0m \u001b[32m━━━━━━━━━━━━━━━━━━━━\u001b[0m\u001b[37m\u001b[0m \u001b[1m0s\u001b[0m 4ms/step - accuracy: 0.7650 - loss: 0.4784 - val_accuracy: 0.6906 - val_loss: 0.6058\n",
            "Epoch 22/30\n",
            "\u001b[1m74/74\u001b[0m \u001b[32m━━━━━━━━━━━━━━━━━━━━\u001b[0m\u001b[37m\u001b[0m \u001b[1m1s\u001b[0m 4ms/step - accuracy: 0.7983 - loss: 0.4365 - val_accuracy: 0.7043 - val_loss: 0.6179\n",
            "Epoch 23/30\n",
            "\u001b[1m74/74\u001b[0m \u001b[32m━━━━━━━━━━━━━━━━━━━━\u001b[0m\u001b[37m\u001b[0m \u001b[1m0s\u001b[0m 4ms/step - accuracy: 0.7860 - loss: 0.4547 - val_accuracy: 0.7009 - val_loss: 0.6161\n",
            "Epoch 24/30\n",
            "\u001b[1m74/74\u001b[0m \u001b[32m━━━━━━━━━━━━━━━━━━━━\u001b[0m\u001b[37m\u001b[0m \u001b[1m0s\u001b[0m 4ms/step - accuracy: 0.7876 - loss: 0.4379 - val_accuracy: 0.6889 - val_loss: 0.6444\n",
            "Epoch 25/30\n",
            "\u001b[1m74/74\u001b[0m \u001b[32m━━━━━━━━━━━━━━━━━━━━\u001b[0m\u001b[37m\u001b[0m \u001b[1m1s\u001b[0m 5ms/step - accuracy: 0.8024 - loss: 0.4213 - val_accuracy: 0.6974 - val_loss: 0.6197\n",
            "Epoch 26/30\n",
            "\u001b[1m74/74\u001b[0m \u001b[32m━━━━━━━━━━━━━━━━━━━━\u001b[0m\u001b[37m\u001b[0m \u001b[1m0s\u001b[0m 4ms/step - accuracy: 0.7957 - loss: 0.4386 - val_accuracy: 0.6940 - val_loss: 0.6255\n",
            "Epoch 27/30\n",
            "\u001b[1m74/74\u001b[0m \u001b[32m━━━━━━━━━━━━━━━━━━━━\u001b[0m\u001b[37m\u001b[0m \u001b[1m1s\u001b[0m 4ms/step - accuracy: 0.8113 - loss: 0.4099 - val_accuracy: 0.6957 - val_loss: 0.6272\n",
            "Epoch 28/30\n",
            "\u001b[1m74/74\u001b[0m \u001b[32m━━━━━━━━━━━━━━━━━━━━\u001b[0m\u001b[37m\u001b[0m \u001b[1m0s\u001b[0m 4ms/step - accuracy: 0.7954 - loss: 0.4265 - val_accuracy: 0.6991 - val_loss: 0.6286\n",
            "Epoch 29/30\n",
            "\u001b[1m74/74\u001b[0m \u001b[32m━━━━━━━━━━━━━━━━━━━━\u001b[0m\u001b[37m\u001b[0m \u001b[1m1s\u001b[0m 5ms/step - accuracy: 0.8012 - loss: 0.4134 - val_accuracy: 0.6872 - val_loss: 0.6437\n",
            "Epoch 30/30\n",
            "\u001b[1m74/74\u001b[0m \u001b[32m━━━━━━━━━━━━━━━━━━━━\u001b[0m\u001b[37m\u001b[0m \u001b[1m0s\u001b[0m 4ms/step - accuracy: 0.8041 - loss: 0.4287 - val_accuracy: 0.6855 - val_loss: 0.6397\n"
          ]
        }
      ]
    },
    {
      "cell_type": "markdown",
      "source": [
        "**Insight**\n",
        "\n",
        "\n",
        "*   Memisahkan validation split membantu memantau overfitting di setiap epoch."
      ],
      "metadata": {
        "id": "x1A6ZWyb4OZH"
      }
    },
    {
      "cell_type": "markdown",
      "source": [
        "## C. Save model\n"
      ],
      "metadata": {
        "id": "UaL_Oop12NDA"
      }
    },
    {
      "cell_type": "code",
      "source": [
        "model.save('weather_prediction_model.keras')"
      ],
      "metadata": {
        "id": "6iWMsmyQ2Muh"
      },
      "execution_count": 35,
      "outputs": []
    },
    {
      "cell_type": "markdown",
      "source": [
        "**Insight**\n",
        "\n",
        "\n",
        "*   Menyimpan hasil training (.h5) memungkinkan reuse tanpa retraining ulang, bermanfaat untuk deployment atau analisis lanjutan."
      ],
      "metadata": {
        "id": "wH0IkwtK4OyX"
      }
    },
    {
      "cell_type": "markdown",
      "source": [
        "# 6. Evaluasi"
      ],
      "metadata": {
        "id": "Pfz3Db-G2X_M"
      }
    },
    {
      "cell_type": "markdown",
      "source": [
        "## A. Plot Loss"
      ],
      "metadata": {
        "id": "Wd6xomSf2cYF"
      }
    },
    {
      "cell_type": "code",
      "source": [
        "plt.plot(history.history['loss'])\n",
        "plt.plot(history.history['val_loss'])\n",
        "plt.title('Model Loss')\n",
        "plt.ylabel('Loss')\n",
        "plt.xlabel('Epochs')\n",
        "plt.legend(['train', 'test'], loc='upper right')\n",
        "plt.show()"
      ],
      "metadata": {
        "colab": {
          "base_uri": "https://localhost:8080/",
          "height": 472
        },
        "id": "4Amp5Z_a2Xj1",
        "outputId": "e1150312-02fc-4337-eed8-d58ae754c0fa"
      },
      "execution_count": 36,
      "outputs": [
        {
          "output_type": "display_data",
          "data": {
            "text/plain": [
              "<Figure size 640x480 with 1 Axes>"
            ],
            "image/png": "[encoded data removed]"
          },
          "metadata": {}
        }
      ]
    },
    {
      "cell_type": "markdown",
      "source": [
        "**Insight**\n",
        "\n",
        "\n",
        "*   Dari data loss, kita dapat melihat bahwa model menunjukkan penurunan nilai loss yang konsisten pada data pelatihan (loss), yang menunjukkan bahwa model semakin baik dalam mempelajari pola dari data. Namun, pada data validasi (val_loss), meskipun ada sedikit penurunan di awal, nilai loss kemudian mulai meningkat pada epoch tertentu, yang menandakan adanya potensi overfitting, di mana model mulai belajar terlalu banyak detail yang spesifik untuk data pelatihan dan tidak dapat menggeneralisasi dengan baik ke data baru."
      ],
      "metadata": {
        "id": "hyadC-Pl4Qf8"
      }
    },
    {
      "cell_type": "markdown",
      "source": [
        "## B. Plot Accuracy"
      ],
      "metadata": {
        "id": "9M97HsUb2gsU"
      }
    },
    {
      "cell_type": "code",
      "source": [
        "plt.plot(history.history['accuracy'])\n",
        "plt.plot(history.history['val_accuracy'])\n",
        "plt.title('Model Accuracy')\n",
        "plt.ylabel('Accuracy')\n",
        "plt.xlabel('Epoch')\n",
        "plt.legend(['train', 'test'], loc='lower right')\n",
        "plt.show()"
      ],
      "metadata": {
        "colab": {
          "base_uri": "https://localhost:8080/",
          "height": 472
        },
        "id": "UZjCG2LJ2f12",
        "outputId": "e0425c21-a266-4a3f-e779-1cf897973aa2"
      },
      "execution_count": 37,
      "outputs": [
        {
          "output_type": "display_data",
          "data": {
            "text/plain": [
              "<Figure size 640x480 with 1 Axes>"
            ],
            "image/png": "[encoded data removed]"
          },
          "metadata": {}
        }
      ]
    },
    {
      "cell_type": "markdown",
      "source": [
        "**Insight**\n",
        "\n",
        "\n",
        "*   Untuk akurasi, kita dapat melihat bahwa model terus menunjukkan peningkatan yang stabil pada data pelatihan (accuracy) sepanjang pelatihan. Akurasi pada data pelatihan naik hingga mencapai lebih dari 80% pada epoch terakhir. Namun, pada data validasi (val_accuracy), meskipun ada peningkatan awal, akurasi tidak meningkat dengan signifikan setelah epoch ke-20. Hal ini menunjukkan bahwa meskipun model mampu mengklasifikasikan data pelatihan dengan baik, ia kesulitan untuk menjaga performa yang konsisten saat diuji dengan data yang tidak terlihat sebelumnya."
      ],
      "metadata": {
        "id": "M9oSvgew4REK"
      }
    },
    {
      "cell_type": "markdown",
      "source": [
        "## **Insight dari kedua plot**\n",
        "\n",
        "* Secara keseluruhan, meskipun model menunjukkan perkembangan yang positif dalam hal akurasi dan penurunan loss pada data pelatihan, peningkatan performa pada data validasi mulai menurun setelah beberapa epoch. Ini menunjukkan bahwa model mungkin mulai mengalami overfitting, di mana ia belajar terlalu banyak detail yang spesifik pada data pelatihan dan gagal menggeneralisasi dengan baik pada data baru. Idealnya, kita ingin melihat peningkatan yang lebih konsisten pada akurasi dan penurunan loss baik pada data pelatihan maupun data validasi."
      ],
      "metadata": {
        "id": "i-WDF7Cl_9zr"
      }
    },
    {
      "cell_type": "markdown",
      "source": [
        "## C. Report klasifikasi di test set"
      ],
      "metadata": {
        "id": "oyHKHM5p2npI"
      }
    },
    {
      "cell_type": "code",
      "source": [
        "y_pred = (model.predict(X_test) > 0.5).astype(int)\n",
        "print(confusion_matrix(y_test, y_pred))\n",
        "print(classification_report(y_test, y_pred))"
      ],
      "metadata": {
        "colab": {
          "base_uri": "https://localhost:8080/"
        },
        "id": "AfRUyiQv2mFr",
        "outputId": "3259080d-cd83-48a0-82ed-c9af446d0e98"
      },
      "execution_count": 39,
      "outputs": [
        {
          "output_type": "stream",
          "name": "stdout",
          "text": [
            "\u001b[1m23/23\u001b[0m \u001b[32m━━━━━━━━━━━━━━━━━━━━\u001b[0m\u001b[37m\u001b[0m \u001b[1m0s\u001b[0m 5ms/step\n",
            "[[280 110]\n",
            " [119 222]]\n",
            "              precision    recall  f1-score   support\n",
            "\n",
            "           0       0.70      0.72      0.71       390\n",
            "           1       0.67      0.65      0.66       341\n",
            "\n",
            "    accuracy                           0.69       731\n",
            "   macro avg       0.69      0.68      0.68       731\n",
            "weighted avg       0.69      0.69      0.69       731\n",
            "\n"
          ]
        }
      ]
    },
    {
      "cell_type": "markdown",
      "source": [
        "**Insight**\n",
        "\n",
        "\n",
        "*   Model ini menunjukkan akurasi 69%, yang menunjukkan bahwa secara keseluruhan, model cukup baik dalam memprediksi kelas. Namun, meskipun akurasi relatif tinggi, ada perbedaan kinerja antara kedua kelas yang diprediksi. Untuk kelas 0, model memiliki precision dan recall yang sedikit lebih baik (0.70 dan 0.72), menunjukkan bahwa model lebih sering memprediksi kelas ini dengan benar. Sebaliknya, untuk kelas 1, meskipun precision dan recall lebih rendah (0.67 dan 0.65), ini menunjukkan bahwa model kurang optimal dalam mengenali kelas ini. Dengan f1-score yang hampir setara di kedua kelas, model dapat dipertimbangkan cukup seimbang, meskipun ada ruang untuk perbaikan, terutama pada kelas 1."
      ],
      "metadata": {
        "id": "Jk7PjfGL4RjJ"
      }
    },
    {
      "cell_type": "markdown",
      "source": [
        "## D. Confusion Matrix"
      ],
      "metadata": {
        "id": "U_D4I47z2sZP"
      }
    },
    {
      "cell_type": "code",
      "source": [
        "# Buat confusion matrix\n",
        "cm = confusion_matrix(y_test, y_pred)\n",
        "\n",
        "# Cetak matriks secara numerik\n",
        "print(\"Confusion Matrix (Numerik):\")\n",
        "print(f\"[[TN: {cm[0,0]}  FP: {cm[0,1]}]\\n [FN: {cm[1,0]}  TP: {cm[1,1]}]]\")\n",
        "\n",
        "# Plot heatmap\n",
        "plt.figure(figsize=(6, 4))\n",
        "sns.heatmap(cm, annot=True, fmt='d',\n",
        "            xticklabels=['No Rain', 'Rain'],\n",
        "            yticklabels=['No Rain', 'Rain'],\n",
        "            cmap='Blues')\n",
        "\n",
        "plt.title('Confusion Matrix')\n",
        "plt.ylabel('Actual')\n",
        "plt.xlabel('Predicted')\n",
        "plt.show()"
      ],
      "metadata": {
        "colab": {
          "base_uri": "https://localhost:8080/",
          "height": 465
        },
        "id": "V9cUXnSp2qwi",
        "outputId": "707976fd-696b-4a28-ebdf-02aabc720bef"
      },
      "execution_count": 41,
      "outputs": [
        {
          "output_type": "stream",
          "name": "stdout",
          "text": [
            "Confusion Matrix (Numerik):\n",
            "[[TN: 280  FP: 110]\n",
            " [FN: 119  TP: 222]]\n"
          ]
        },
        {
          "output_type": "display_data",
          "data": {
            "text/plain": [
              "<Figure size 600x400 with 2 Axes>"
            ],
            "image/png": "[encoded data removed]"
          },
          "metadata": {}
        }
      ]
    },
    {
      "cell_type": "markdown",
      "source": [
        "**Insight**\n",
        "\n",
        "\n",
        "*   Model berhasil mengenali 280 hari yang memang tidak hujan dan 222 hari yang benar-benar hujan dengan tepat. Namun, model juga salah memprediksi 119 hari sebagai hujan padahal tidak (false alarm), dan melewatkan 110 hari hujan yang justru diprediksi tidak hujan. Artinya, model masih cukup sering gagal menangkap hari-hari yang seharusnya hujan, yang bisa jadi penting untuk peringatan cuaca."
      ],
      "metadata": {
        "id": "gaY2Fn9S4R7I"
      }
    }
  ]
}